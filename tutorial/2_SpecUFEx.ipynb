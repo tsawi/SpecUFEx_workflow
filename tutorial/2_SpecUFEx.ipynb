{
 "cells": [
  {
   "cell_type": "code",
   "execution_count": 14,
   "id": "3b69ce74",
   "metadata": {},
   "outputs": [],
   "source": [
    "import specufex\n",
    "import sys\n",
    "import os \n",
    "import obspy\n",
    "from specufex import BayesianNonparametricNMF\n",
    "import h5py\n",
    "import yaml\n",
    "import numpy as np\n",
    "from tqdm import trange\n",
    "## change this to input arg\n",
    "yamlPath = \"/Users/theresasawi/Documents/11_Manuscripts/Methods_Paper/data/yaml/demo.yaml\"\n"
   ]
  },
  {
   "cell_type": "code",
   "execution_count": 18,
   "id": "898cf54a",
   "metadata": {},
   "outputs": [
    {
     "name": "stdout",
     "output_type": "stream",
     "text": [
      "Project key: demo\n"
     ]
    }
   ],
   "source": [
    "\n",
    "\n",
    "####################################################################################\n",
    "####################################################################################\n",
    "###\n",
    "### Load yaml file settings, creat paths, set parameters\n",
    "###\n",
    "####################################################################################\n",
    "####################################################################################\n",
    "\n",
    "\n",
    "\n",
    "with open(yamlPath) as stream:\n",
    "    config = yaml.safe_load(stream)\n",
    "    \n",
    "path_config = config[\"paths\"]\n",
    "key = path_config[\"key\"]\n",
    "print(\"Project key:\", key)\n",
    "\n",
    "\n",
    "\n",
    "projectPath = path_config[\"projectPath\"]\n",
    "SpecUFEx_H5_name = 'SpecUFEx_' + path_config[\"h5name\"] #f'SpecUFEx_{key}.hdf5'\n",
    "SpecUFEx_H5_path = projectPath + 'data/H5files/' + SpecUFEx_H5_name\n",
    "\n",
    "\n",
    "#SpecUFEx parameters\n",
    "specufex_config = config['specufexParams']\n",
    "N_patterns_NMF = specufex_config['N_patterns_NMF']               \n",
    "nmf_batchsz = specufex_config['nmf_batchsz']               \n",
    "nmf_nbatch = specufex_config['nmf_nbatch']\n",
    "N_states_HMM = specufex_config['N_states_HMM']\n",
    "hmm_batchsz = specufex_config['hmm_batchsz']        \n",
    "hmm_nbatch = specufex_config['hmm_nbatch']        "
   ]
  },
  {
   "cell_type": "code",
   "execution_count": 11,
   "id": "cefb3e38",
   "metadata": {},
   "outputs": [
    {
     "name": "stdout",
     "output_type": "stream",
     "text": [
      "(1815, 118, 1950)\n",
      "100000 100000\n",
      "2 2\n"
     ]
    }
   ],
   "source": [
    "####################################################################################\n",
    "####################################################################################\n",
    "###\n",
    "### Stack spectrograms for SpecUFEx input\n",
    "###\n",
    "####################################################################################\n",
    "####################################################################################\n",
    "\n",
    "X = []\n",
    "\n",
    "with h5py.File(SpecUFEx_H5_path,'a') as fileLoad:\n",
    "    for evID in fileLoad['spectrograms']:\n",
    "        specMat = fileLoad['spectrograms'].get(evID)[:]\n",
    "        X.append(specMat)\n",
    "\n",
    "    X = np.array(X)\n",
    "\n",
    "# ================\n",
    "print(np.shape(X))\n",
    "\n",
    "\n",
    "\n",
    "\n"
   ]
  },
  {
   "cell_type": "code",
   "execution_count": 24,
   "id": "b6b1078c",
   "metadata": {},
   "outputs": [
    {
     "name": "stdout",
     "output_type": "stream",
     "text": [
      "fitting NMF\n",
      "transforming NMF\n",
      "fitting HMM\n",
      "transforming HMM\n"
     ]
    }
   ],
   "source": [
    "####################################################################################\n",
    "####################################################################################\n",
    "###\n",
    "### Run SpecUFEx!\n",
    "###\n",
    "####################################################################################\n",
    "####################################################################################\n",
    "\n",
    "nmf = specufex.BayesianNonparametricNMF(X.shape)\n",
    "\n",
    "print('fitting NMF')\n",
    "nmf.fit(X, verbose=0)\n",
    "\n",
    "print('transforming NMF')    \n",
    "Vs = nmf.transform(X)\n",
    "\n",
    "\n",
    "hmm = specufex.BayesianHMM(nmf.num_pat, nmf.gain)\n",
    "\n",
    "\n",
    "print('fitting HMM')\n",
    "hmm.fit(Vs)\n",
    "\n",
    "\n",
    "print('transforming HMM')    \n",
    "fingerprints, As, gams = hmm.transform(Vs)\n"
   ]
  },
  {
   "cell_type": "code",
   "execution_count": null,
   "id": "20a81044",
   "metadata": {},
   "outputs": [
    {
     "name": "stderr",
     "output_type": "stream",
     "text": [
      "NMF fit progress :   0%|          | 0/100000 [00:00<?, ?it/s]"
     ]
    }
   ],
   "source": [
    "####################################################################################\n",
    "####################################################################################\n",
    "###\n",
    "### Run SpecUFEx! Nate's version\n",
    "###\n",
    "####################################################################################\n",
    "####################################################################################\n",
    "\n",
    "\n",
    "\n",
    "nmf = BayesianNonparametricNMF(X.shape,num_pat=N_patterns_NMF)\n",
    "\n",
    "t = trange(nmf_nbatch, desc=\"NMF fit progress \", leave=True)\n",
    "for i in t:\n",
    "    idx = np.random.randint(len(X), size=nmf_batchsz)\n",
    "    nmf.fit(X)\n",
    "    t.set_postfix_str(f\"Patterns: {nmf.num_pat}\")\n",
    "    \n",
    "\n",
    "Vs = nmf.transform(X)\n",
    "\n",
    "hmm = BayesianHMM(nmf.num_pat, nmf.gain, num_state=N_states_HMM, Neff=50000)\n",
    "\n",
    "\n",
    "\n",
    "t = trange(hmm_nbatch, desc=\"HMM fit progress \", leave=True)\n",
    "for i in t:\n",
    "    idx = np.random.randint(Vs.shape[0], size=hmm_batchsz)\n",
    "    hmm.fit(Vs[idx])\n",
    "\n",
    "fingerprints, As, gams = hmm.transform(Vs)"
   ]
  },
  {
   "cell_type": "code",
   "execution_count": 25,
   "id": "5ad66a2b",
   "metadata": {},
   "outputs": [
    {
     "name": "stdout",
     "output_type": "stream",
     "text": [
      "writing all output to h5\n"
     ]
    }
   ],
   "source": [
    "####################################################################################\n",
    "####################################################################################\n",
    "###\n",
    "### save output to H5\n",
    "###\n",
    "####################################################################################\n",
    "####################################################################################\n",
    "\n",
    "print('writing all output to h5')\n",
    "with h5py.File(SpecUFEx_H5_path,'a') as fileLoad:\n",
    "\n",
    "\n",
    "    ##fingerprints are top folder\n",
    "    if 'fingerprints' in fileLoad.keys():\n",
    "        del fileLoad[\"fingerprints\"]\n",
    "    fp_group = fileLoad.create_group('fingerprints')\n",
    "\n",
    "    if 'SpecUFEX_output' in fileLoad.keys():\n",
    "        del fileLoad[\"SpecUFEX_output\"]\n",
    "    out_group = fileLoad.create_group(\"SpecUFEX_output\")\n",
    "\n",
    "    # write fingerprints: ===============================\n",
    "    for i, evID in enumerate(fileLoad['spectrograms']):\n",
    "        fp_group.create_dataset(name= evID, data=fingerprints[i])\n",
    "\n",
    "\n",
    "    # write the SpecUFEx out: ===========================\n",
    "    # maybe include these, but they are not yet tested.\n",
    "    ACM_group = fileLoad.create_group(\"SpecUFEX_output/ACM\")\n",
    "    STM_group = fileLoad.create_group(\"SpecUFEX_output/STM\")\n",
    "\n",
    "    for i, evID in enumerate(fileLoad['spectrograms']):\n",
    "        ACM_group.create_dataset(name=evID,data=Vs[i]) #ACM\n",
    "        STM_group.create_dataset(name=evID,data=gams[i]) #STM\n",
    "\n",
    "    gain_group = fileLoad.create_group(\"SpecUFEX_output/ACM_gain\")\n",
    "    W_group                      = fileLoad.create_group(\"SpecUFEX_output/W\")\n",
    "    EB_group                     = fileLoad.create_group(\"SpecUFEX_output/EB\")\n",
    "    ## # # delete probably ! gain_group                   = fileLoad.create_group(\"SpecUFEX_output/gain\")\n",
    "    #RMM_group                    = fileLoad.create_group(\"SpecUFEX_output/RMM\")\n",
    "\n",
    "    W_group.create_dataset(name='W',data=nmf.EW)\n",
    "    EB_group.create_dataset(name=evID,data=hmm.EB)\n",
    "    gain_group.create_dataset(name='gain',data=nmf.gain) #same for all data\n",
    "    # RMM_group.create_dataset(name=evID,data=RMM)\n",
    "    \n",
    "\n",
    "\n",
    "\n",
    "\n"
   ]
  },
  {
   "cell_type": "code",
   "execution_count": null,
   "id": "21cc90fa",
   "metadata": {},
   "outputs": [],
   "source": [
    "os.system(\"say 'SpecUFEx complete'\")    \n"
   ]
  },
  {
   "cell_type": "code",
   "execution_count": null,
   "id": "c6f0fa9b",
   "metadata": {},
   "outputs": [],
   "source": []
  }
 ],
 "metadata": {
  "kernelspec": {
   "display_name": "Python 3",
   "language": "python",
   "name": "python3"
  },
  "language_info": {
   "codemirror_mode": {
    "name": "ipython",
    "version": 3
   },
   "file_extension": ".py",
   "mimetype": "text/x-python",
   "name": "python",
   "nbconvert_exporter": "python",
   "pygments_lexer": "ipython3",
   "version": "3.7.8"
  }
 },
 "nbformat": 4,
 "nbformat_minor": 5
}
