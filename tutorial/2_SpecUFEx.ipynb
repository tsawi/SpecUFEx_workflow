{
 "cells": [
  {
   "cell_type": "code",
   "execution_count": 1,
   "id": "cc0be366",
   "metadata": {},
   "outputs": [],
   "source": [
    "import specufex\n",
    "import sys\n",
    "import os \n",
    "import obspy\n",
    "from specufex import BayesianNonparametricNMF\n",
    "import h5py\n",
    "import yaml\n",
    "import numpy as np\n",
    "import time\n",
    "from tqdm import trange\n",
    "## change this to input arg\n",
    "yamlPath = \"/Users/theresasawi/Documents/11_Manuscripts/Methods_Paper/data/yaml/demo_150Hz_v3.yaml\"\n",
    "# yamlPath = \"/Users/theresasawi/Documents/11_Manuscripts/Methods_Paper/data/yaml/demo_150Hz_dec5.yaml\"\n"
   ]
  },
  {
   "cell_type": "code",
   "execution_count": 2,
   "id": "c4c55713",
   "metadata": {},
   "outputs": [
    {
     "name": "stdout",
     "output_type": "stream",
     "text": [
      "Project key: demo_50Hz_v3\n"
     ]
    }
   ],
   "source": [
    "\n",
    "\n",
    "####################################################################################\n",
    "####################################################################################\n",
    "###\n",
    "### Load yaml file settings, creat paths, set parameters\n",
    "###\n",
    "####################################################################################\n",
    "####################################################################################\n",
    "\n",
    "\n",
    "\n",
    "with open(yamlPath) as stream:\n",
    "    config = yaml.safe_load(stream)\n",
    "    \n",
    "path_config = config[\"paths\"]\n",
    "key = path_config[\"key\"]\n",
    "print(\"Project key:\", key)\n",
    "\n",
    "\n",
    "\n",
    "projectPath = path_config[\"projectPath\"]\n",
    "SpecUFEx_H5_name = 'SpecUFEx_' + path_config[\"h5name\"] #f'SpecUFEx_{key}.hdf5'\n",
    "SpecUFEx_H5_path = projectPath + 'data/H5files/' + SpecUFEx_H5_name\n",
    "\n",
    "\n",
    "#SpecUFEx parameters\n",
    "specufex_config = config['specufexParams']\n",
    "N_patterns_NMF = specufex_config['N_patterns_NMF']               \n",
    "nmf_batchsz = specufex_config['nmf_batchsz']               \n",
    "nmf_nbatch = specufex_config['nmf_nbatch']\n",
    "N_states_HMM = specufex_config['N_states_HMM']\n",
    "hmm_batchsz = specufex_config['hmm_batchsz']        \n",
    "hmm_nbatch = specufex_config['hmm_nbatch']        "
   ]
  },
  {
   "cell_type": "code",
   "execution_count": 3,
   "id": "e86c2ef5",
   "metadata": {},
   "outputs": [
    {
     "name": "stdout",
     "output_type": "stream",
     "text": [
      "(1496, 200, 1950)\n"
     ]
    }
   ],
   "source": [
    "####################################################################################\n",
    "####################################################################################\n",
    "###\n",
    "### Stack spectrograms for SpecUFEx input\n",
    "###\n",
    "####################################################################################\n",
    "####################################################################################\n",
    "\n",
    "X = []\n",
    "\n",
    "with h5py.File(SpecUFEx_H5_path,'a') as fileLoad:\n",
    "    for evID in fileLoad['spectrograms']:\n",
    "#         print(evID)\n",
    "        specMat = fileLoad['spectrograms'].get(evID)[:]\n",
    "        X.append(specMat)\n",
    "\n",
    "    X = np.array(X)\n",
    "\n",
    "# ================\n",
    "print(np.shape(X))\n",
    "\n",
    "\n",
    "\n"
   ]
  },
  {
   "cell_type": "code",
   "execution_count": 4,
   "id": "46a3d476",
   "metadata": {},
   "outputs": [
    {
     "data": {
      "text/plain": [
       "(200, 1950)"
      ]
     },
     "execution_count": 4,
     "metadata": {},
     "output_type": "execute_result"
    }
   ],
   "source": [
    "specMat.shape"
   ]
  },
  {
   "cell_type": "code",
   "execution_count": 5,
   "id": "1f065b78",
   "metadata": {},
   "outputs": [
    {
     "name": "stdout",
     "output_type": "stream",
     "text": [
      "fitting NMF\n",
      "transforming NMF\n",
      "fitting HMM\n",
      "transforming HMM\n"
     ]
    }
   ],
   "source": [
    "####################################################################################\n",
    "####################################################################################\n",
    "###\n",
    "### Run SpecUFEx!\n",
    "###\n",
    "####################################################################################\n",
    "####################################################################################\n",
    "nmf = specufex.BayesianNonparametricNMF(X.shape)\n",
    "\n",
    "\n",
    "start_time = time.time() # 3.0922142305639055 hours for 45k sgrams\n",
    "\n",
    "\n",
    "print('fitting NMF')\n",
    "nmf.fit(X, verbose=0)\n",
    "\n",
    "end_time = time.time()\n",
    "\n",
    "elapsed_time_NMF_fit = end_time - start_time\n",
    "####################################################################################\n",
    "####################################################################################\n",
    "\n",
    "\n",
    "start_time = time.time() # 3.0922142305639055 hours for 45k sgrams\n",
    "\n",
    "print('transforming NMF')    \n",
    "Vs = nmf.transform(X)\n",
    "\n",
    "end_time = time.time()\n",
    "\n",
    "elapsed_time_NMF_transform = end_time - start_time\n",
    "####################################################################################\n",
    "####################################################################################\n",
    "\n",
    "\n",
    "start_time = time.time() # 3.0922142305639055 hours for 45k sgrams\n",
    "\n",
    "hmm = specufex.BayesianHMM(nmf.num_pat, nmf.gain)\n",
    "\n",
    "\n",
    "print('fitting HMM')\n",
    "hmm.fit(Vs)\n",
    "\n",
    "end_time = time.time()\n",
    "\n",
    "elapsed_time_HMM_fit = end_time - start_time\n",
    "####################################################################################\n",
    "####################################################################################\n",
    "\n",
    "\n",
    "start_time = time.time() # 3.0922142305639055 hours for 45k sgrams\n",
    "\n",
    "print('transforming HMM')    \n",
    "fingerprints, As, gams = hmm.transform(Vs)\n",
    "\n",
    "end_time = time.time()\n",
    "\n",
    "elapsed_time_HMM_transform = end_time - start_time\n",
    "        "
   ]
  },
  {
   "cell_type": "code",
   "execution_count": 6,
   "id": "3709ce2e",
   "metadata": {},
   "outputs": [
    {
     "name": "stdout",
     "output_type": "stream",
     "text": [
      "Elapsed time: 3635.334984064102 seconds\n",
      "Elapsed time: 798.50861120224 seconds\n",
      "Elapsed time: 2451.43989109993 seconds\n",
      "Elapsed time: 2498.375291109085 seconds\n",
      "total time 2.6065718826320436 hours\n"
     ]
    }
   ],
   "source": [
    "print(f\"Elapsed time: {elapsed_time_NMF_fit} seconds\")\n",
    "print(f\"Elapsed time: {elapsed_time_NMF_transform} seconds\")\n",
    "print(f\"Elapsed time: {elapsed_time_HMM_fit} seconds\")\n",
    "print(f\"Elapsed time: {elapsed_time_HMM_transform} seconds\")\n",
    "print('total time',(elapsed_time_NMF_fit+elapsed_time_NMF_transform+elapsed_time_HMM_fit+elapsed_time_HMM_transform)/3600, 'hours')\n",
    "\n",
    "##demo50Hz: Elapsed time: 680.7948398590088 seconds\n",
    "# Elapsed time: 206.7134461402893 seconds\n",
    "# Elapsed time: 743.1099891662598 seconds\n",
    "# Elapsed time: 682.7004978656769 seconds\n",
    "# total time 0.6425885480642318 hours\n",
    "\n",
    "##demo250Hz_v2: \n",
    "\n",
    "#(1815, 1020, 475)\n",
    "\n",
    "# demo_150Hz_dec20\n",
    "# (1496, 610, 475)\n",
    "# Elapsed time: 2724.646586894989 seconds\n",
    "# Elapsed time: 939.3281400203705 seconds\n",
    "# Elapsed time: 748.2971248626709 seconds\n",
    "# Elapsed time: 685.5354537963867 seconds\n",
    "# total time 1.4160575848817825 hours\n",
    "\n",
    "# demo_150Hz_v3\n",
    "# Elapsed time: 26845.914207935333 seconds\n",
    "# Elapsed time: 3255.791141986847 seconds\n",
    "# Elapsed time: 2295.416862010956 seconds\n",
    "# Elapsed time: 2253.0588159561157 seconds\n",
    "# total time 9.625050285524793 hours\n"
   ]
  },
  {
   "cell_type": "code",
   "execution_count": null,
   "id": "9c850e4d",
   "metadata": {},
   "outputs": [],
   "source": []
  },
  {
   "cell_type": "code",
   "execution_count": 7,
   "id": "90db600e",
   "metadata": {},
   "outputs": [],
   "source": [
    "# ####################################################################################\n",
    "# ####################################################################################\n",
    "# ###\n",
    "# ### Run SpecUFEx! Nate's version\n",
    "# ###\n",
    "# ####################################################################################\n",
    "# ####################################################################################\n",
    "\n",
    "\n",
    "\n",
    "# nmf = BayesianNonparametricNMF(X.shape,num_pat=N_patterns_NMF)\n",
    "\n",
    "# t = trange(nmf_nbatch, desc=\"NMF fit progress \", leave=True)\n",
    "# for i in t:\n",
    "#     idx = np.random.randint(len(X), size=nmf_batchsz)\n",
    "#     nmf.fit(X)\n",
    "#     t.set_postfix_str(f\"Patterns: {nmf.num_pat}\")\n",
    "    \n",
    "\n",
    "# Vs = nmf.transform(X)\n",
    "\n",
    "# hmm = BayesianHMM(nmf.num_pat, nmf.gain, num_state=N_states_HMM, Neff=50000)\n",
    "\n",
    "\n",
    "\n",
    "# t = trange(hmm_nbatch, desc=\"HMM fit progress \", leave=True)\n",
    "# for i in t:\n",
    "#     idx = np.random.randint(Vs.shape[0], size=hmm_batchsz)\n",
    "#     hmm.fit(Vs[idx])\n",
    "\n",
    "# fingerprints, As, gams = hmm.transform(Vs)"
   ]
  },
  {
   "cell_type": "code",
   "execution_count": 8,
   "id": "b7558213",
   "metadata": {},
   "outputs": [
    {
     "name": "stdout",
     "output_type": "stream",
     "text": [
      "writing all output to h5\n"
     ]
    }
   ],
   "source": [
    "####################################################################################\n",
    "####################################################################################\n",
    "###\n",
    "### save output to H5\n",
    "###\n",
    "####################################################################################\n",
    "####################################################################################\n",
    "\n",
    "print('writing all output to h5')\n",
    "with h5py.File(SpecUFEx_H5_path,'a') as fileLoad:\n",
    "\n",
    "\n",
    "    ##fingerprints are top folder\n",
    "    if 'fingerprints' in fileLoad.keys():\n",
    "        del fileLoad[\"fingerprints\"]\n",
    "    fp_group = fileLoad.create_group('fingerprints')\n",
    "\n",
    "    if 'SpecUFEX_output' in fileLoad.keys():\n",
    "        del fileLoad[\"SpecUFEX_output\"]\n",
    "    out_group = fileLoad.create_group(\"SpecUFEX_output\")\n",
    "\n",
    "    # write fingerprints: ===============================\n",
    "    for i, evID in enumerate(fileLoad['spectrograms']):\n",
    "        fp_group.create_dataset(name= evID, data=fingerprints[i])\n",
    "\n",
    "\n",
    "    # write the SpecUFEx out: ===========================\n",
    "    # maybe include these, but they are not yet tested.\n",
    "    ACM_group = fileLoad.create_group(\"SpecUFEX_output/ACM\")\n",
    "    STM_group = fileLoad.create_group(\"SpecUFEX_output/STM\")\n",
    "\n",
    "    for i, evID in enumerate(fileLoad['spectrograms']):\n",
    "        ACM_group.create_dataset(name=evID,data=Vs[i]) #ACM\n",
    "        STM_group.create_dataset(name=evID,data=gams[i]) #STM\n",
    "\n",
    "    gain_group = fileLoad.create_group(\"SpecUFEX_output/ACM_gain\")\n",
    "    W_group                      = fileLoad.create_group(\"SpecUFEX_output/W\")\n",
    "    EB_group                     = fileLoad.create_group(\"SpecUFEX_output/EB\")\n",
    "    ## # # delete probably ! gain_group                   = fileLoad.create_group(\"SpecUFEX_output/gain\")\n",
    "    #RMM_group                    = fileLoad.create_group(\"SpecUFEX_output/RMM\")\n",
    "\n",
    "    W_group.create_dataset(name='W',data=nmf.EW)\n",
    "    EB_group.create_dataset(name=evID,data=hmm.EB)\n",
    "    gain_group.create_dataset(name='gain',data=nmf.gain) #same for all data\n",
    "    # RMM_group.create_dataset(name=evID,data=RMM)\n",
    "    \n",
    "\n",
    "\n",
    "\n",
    "\n"
   ]
  },
  {
   "cell_type": "code",
   "execution_count": 9,
   "id": "0c26309d",
   "metadata": {},
   "outputs": [
    {
     "data": {
      "text/plain": [
       "0"
      ]
     },
     "execution_count": 9,
     "metadata": {},
     "output_type": "execute_result"
    }
   ],
   "source": [
    "os.system(\"say 'SpecUFEx complete'\")    \n"
   ]
  },
  {
   "cell_type": "code",
   "execution_count": null,
   "id": "d9ee2180",
   "metadata": {},
   "outputs": [],
   "source": []
  },
  {
   "cell_type": "code",
   "execution_count": null,
   "id": "9ca6a479",
   "metadata": {},
   "outputs": [],
   "source": []
  }
 ],
 "metadata": {
  "kernelspec": {
   "display_name": "Python 3",
   "language": "python",
   "name": "python3"
  },
  "language_info": {
   "codemirror_mode": {
    "name": "ipython",
    "version": 3
   },
   "file_extension": ".py",
   "mimetype": "text/x-python",
   "name": "python",
   "nbconvert_exporter": "python",
   "pygments_lexer": "ipython3",
   "version": "3.7.8"
  }
 },
 "nbformat": 4,
 "nbformat_minor": 5
}
